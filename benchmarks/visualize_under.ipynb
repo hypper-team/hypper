{
 "cells": [
  {
   "cell_type": "code",
   "execution_count": 9,
   "metadata": {},
   "outputs": [],
   "source": [
    "import seaborn as sns\n",
    "import pandas as pd\n",
    "import numpy as np\n",
    "import matplotlib.pyplot as plt\n",
    "\n",
    "from copy import deepcopy\n",
    "from IPython.display import display, HTML\n",
    "from scipy.stats import rankdata\n",
    "from Orange.evaluation import compute_CD, graph_ranks\n",
    "\n",
    "sns.set_style(\"ticks\", {\n",
    "    'axes.grid': True,\n",
    "    'grid.color': '.5'})\n",
    "sns.set_context(\"paper\")\n",
    "# sns.set_palette(\"crest\")\n",
    "# sns.color_palette(\"muted\")\n",
    "# sns.color_palette(\"crest\", as_cmap=True)\n",
    "pd.set_option('display.max_rows', None)\n",
    "pd.set_option('display.max_colwidth', None)"
   ]
  },
  {
   "cell_type": "code",
   "execution_count": 10,
   "metadata": {},
   "outputs": [],
   "source": [
    "EVALMETRIC = 'roc_auc'"
   ]
  },
  {
   "cell_type": "code",
   "execution_count": 11,
   "metadata": {},
   "outputs": [
    {
     "data": {
      "text/html": [
       "<div>\n",
       "<style scoped>\n",
       "    .dataframe tbody tr th:only-of-type {\n",
       "        vertical-align: middle;\n",
       "    }\n",
       "\n",
       "    .dataframe tbody tr th {\n",
       "        vertical-align: top;\n",
       "    }\n",
       "\n",
       "    .dataframe thead th {\n",
       "        text-align: right;\n",
       "    }\n",
       "</style>\n",
       "<table border=\"1\" class=\"dataframe\">\n",
       "  <thead>\n",
       "    <tr style=\"text-align: right;\">\n",
       "      <th></th>\n",
       "      <th>dataset</th>\n",
       "      <th>undersampling_method</th>\n",
       "      <th>eval_algorithm</th>\n",
       "      <th>parameters</th>\n",
       "      <th>accuracy_val</th>\n",
       "      <th>balanced_accuracy_val</th>\n",
       "      <th>roc_auc_val</th>\n",
       "      <th>average_precision_val</th>\n",
       "      <th>precision_val</th>\n",
       "      <th>recall_val</th>\n",
       "      <th>f1_val</th>\n",
       "      <th>accuracy_test</th>\n",
       "      <th>balanced_accuracy_test</th>\n",
       "      <th>roc_auc_test</th>\n",
       "      <th>average_precision_test</th>\n",
       "      <th>precision_test</th>\n",
       "      <th>recall_test</th>\n",
       "      <th>f1_test</th>\n",
       "    </tr>\n",
       "  </thead>\n",
       "  <tbody>\n",
       "    <tr>\n",
       "      <th>0</th>\n",
       "      <td>read_german_data</td>\n",
       "      <td>hypper_equal</td>\n",
       "      <td>lr</td>\n",
       "      <td>{'majority_left_threshold': 0.0, 'method': 'hypper', 'randomize_A': 0.0, 'version': 1, 'weighting_history': True, 'weighting_iteration': 1, 'weighting_normalization_strategy': 'max'}</td>\n",
       "      <td>0.65</td>\n",
       "      <td>0.726091</td>\n",
       "      <td>0.843035</td>\n",
       "      <td>0.933333</td>\n",
       "      <td>0.929061</td>\n",
       "      <td>0.567568</td>\n",
       "      <td>0.705882</td>\n",
       "      <td>0.65</td>\n",
       "      <td>0.706328</td>\n",
       "      <td>0.742870</td>\n",
       "      <td>0.897436</td>\n",
       "      <td>0.836929</td>\n",
       "      <td>0.530303</td>\n",
       "      <td>0.666667</td>\n",
       "    </tr>\n",
       "    <tr>\n",
       "      <th>1</th>\n",
       "      <td>read_german_data</td>\n",
       "      <td>hypper_equal</td>\n",
       "      <td>catboost</td>\n",
       "      <td>{'majority_left_threshold': 0.0, 'method': 'hypper', 'randomize_A': 0.0, 'version': 1, 'weighting_history': True, 'weighting_iteration': 1, 'weighting_normalization_strategy': 'max'}</td>\n",
       "      <td>0.56</td>\n",
       "      <td>0.665281</td>\n",
       "      <td>0.809771</td>\n",
       "      <td>0.916667</td>\n",
       "      <td>0.909406</td>\n",
       "      <td>0.445946</td>\n",
       "      <td>0.600000</td>\n",
       "      <td>0.62</td>\n",
       "      <td>0.690731</td>\n",
       "      <td>0.778075</td>\n",
       "      <td>0.911765</td>\n",
       "      <td>0.874429</td>\n",
       "      <td>0.469697</td>\n",
       "      <td>0.620000</td>\n",
       "    </tr>\n",
       "    <tr>\n",
       "      <th>2</th>\n",
       "      <td>read_german_data</td>\n",
       "      <td>hypper_equal</td>\n",
       "      <td>lightgbm</td>\n",
       "      <td>{'majority_left_threshold': 0.0, 'method': 'hypper', 'randomize_A': 0.0, 'version': 1, 'weighting_history': True, 'weighting_iteration': 1, 'weighting_normalization_strategy': 'max'}</td>\n",
       "      <td>0.57</td>\n",
       "      <td>0.672037</td>\n",
       "      <td>0.781185</td>\n",
       "      <td>0.918919</td>\n",
       "      <td>0.895000</td>\n",
       "      <td>0.459459</td>\n",
       "      <td>0.612613</td>\n",
       "      <td>0.64</td>\n",
       "      <td>0.713012</td>\n",
       "      <td>0.752674</td>\n",
       "      <td>0.941176</td>\n",
       "      <td>0.860993</td>\n",
       "      <td>0.484848</td>\n",
       "      <td>0.640000</td>\n",
       "    </tr>\n",
       "  </tbody>\n",
       "</table>\n",
       "</div>"
      ],
      "text/plain": [
       "            dataset undersampling_method eval_algorithm  \\\n",
       "0  read_german_data         hypper_equal             lr   \n",
       "1  read_german_data         hypper_equal       catboost   \n",
       "2  read_german_data         hypper_equal       lightgbm   \n",
       "\n",
       "                                                                                                                                                                               parameters  \\\n",
       "0  {'majority_left_threshold': 0.0, 'method': 'hypper', 'randomize_A': 0.0, 'version': 1, 'weighting_history': True, 'weighting_iteration': 1, 'weighting_normalization_strategy': 'max'}   \n",
       "1  {'majority_left_threshold': 0.0, 'method': 'hypper', 'randomize_A': 0.0, 'version': 1, 'weighting_history': True, 'weighting_iteration': 1, 'weighting_normalization_strategy': 'max'}   \n",
       "2  {'majority_left_threshold': 0.0, 'method': 'hypper', 'randomize_A': 0.0, 'version': 1, 'weighting_history': True, 'weighting_iteration': 1, 'weighting_normalization_strategy': 'max'}   \n",
       "\n",
       "   accuracy_val  balanced_accuracy_val  roc_auc_val  average_precision_val  \\\n",
       "0          0.65               0.726091     0.843035               0.933333   \n",
       "1          0.56               0.665281     0.809771               0.916667   \n",
       "2          0.57               0.672037     0.781185               0.918919   \n",
       "\n",
       "   precision_val  recall_val    f1_val  accuracy_test  balanced_accuracy_test  \\\n",
       "0       0.929061    0.567568  0.705882           0.65                0.706328   \n",
       "1       0.909406    0.445946  0.600000           0.62                0.690731   \n",
       "2       0.895000    0.459459  0.612613           0.64                0.713012   \n",
       "\n",
       "   roc_auc_test  average_precision_test  precision_test  recall_test   f1_test  \n",
       "0      0.742870                0.897436        0.836929     0.530303  0.666667  \n",
       "1      0.778075                0.911765        0.874429     0.469697  0.620000  \n",
       "2      0.752674                0.941176        0.860993     0.484848  0.640000  "
      ]
     },
     "execution_count": 11,
     "metadata": {},
     "output_type": "execute_result"
    }
   ],
   "source": [
    "df = pd.read_csv(\"results_df/undersampling_exp8.csv\", index_col=0)\n",
    "df.loc[df.parameters.str.contains(pat=\"majority_left_threshold': 0.0\"), 'undersampling_method'] = 'hypper_equal'\n",
    "df.head(3)"
   ]
  },
  {
   "cell_type": "code",
   "execution_count": 12,
   "metadata": {},
   "outputs": [
    {
     "name": "stdout",
     "output_type": "stream",
     "text": [
      "Undersampling methods: ['hypper_equal', 'hypper', 'without_undersampling', 'random_undersampling', 'tomek_links', 'edited_nearest_neighbours', 'near_miss']\n",
      "Datasets: ['read_german_data', 'read_spect_heart', 'read_banking', 'read_hr', 'read_criteo']\n",
      "Evaluation models: ['lr', 'catboost', 'lightgbm']\n"
     ]
    }
   ],
   "source": [
    "print(f\"Undersampling methods: {df['undersampling_method'].unique().tolist()}\")\n",
    "print(f\"Datasets: {df['dataset'].unique().tolist()}\")\n",
    "print(f\"Evaluation models: {df['eval_algorithm'].unique().tolist()}\")\n",
    "# print(f\"Parameters sets: {df['parameters'].unique().tolist()}\")"
   ]
  },
  {
   "cell_type": "code",
   "execution_count": 13,
   "metadata": {},
   "outputs": [
    {
     "name": "stdout",
     "output_type": "stream",
     "text": [
      "45\n"
     ]
    },
    {
     "data": {
      "text/plain": [
       "[('hypper',\n",
       "  'read_banking',\n",
       "  'catboost',\n",
       "  \"{'majority_left_threshold': 0.5, 'method': 'hypper', 'randomize_A': 40.0, 'version': 5, 'weighting_history': True, 'weighting_iteration': 3, 'weighting_normalization_strategy': 'l2'}\"),\n",
       " ('hypper',\n",
       "  'read_banking',\n",
       "  'lightgbm',\n",
       "  \"{'majority_left_threshold': 0.5, 'method': 'hypper', 'randomize_A': 40.0, 'version': 5, 'weighting_history': False, 'weighting_iteration': 1, 'weighting_normalization_strategy': 'l1'}\")]"
      ]
     },
     "execution_count": 13,
     "metadata": {},
     "output_type": "execute_result"
    }
   ],
   "source": [
    "# Select best hypper params validation data\n",
    "tuned_methods = ['hypper', 'hypper_equal', 'near_miss']\n",
    "grouping_key = ['undersampling_method','dataset','eval_algorithm','parameters']\n",
    "df_test = df[df.undersampling_method.isin(tuned_methods)]\n",
    "\n",
    "df_test = df_test.groupby(grouping_key).mean()\n",
    "metric = [EVALMETRIC+'_val', EVALMETRIC+'_test']\n",
    "df_test = df_test[metric].sort_values(by=EVALMETRIC+'_val', ascending=False)\n",
    "df_test = df_test.groupby(grouping_key[:-1]).head(1).reset_index().set_index(grouping_key).sort_index()\n",
    "best_params = list(df_test.index)\n",
    "print(len(best_params))\n",
    "best_params[:2]"
   ]
  },
  {
   "cell_type": "code",
   "execution_count": 14,
   "metadata": {},
   "outputs": [
    {
     "name": "stdout",
     "output_type": "stream",
     "text": [
      "(22050, 18)\n"
     ]
    },
    {
     "data": {
      "text/plain": [
       "(525, 18)"
      ]
     },
     "execution_count": 14,
     "metadata": {},
     "output_type": "execute_result"
    }
   ],
   "source": [
    "print(df.shape)\n",
    "df_best = deepcopy(df)\n",
    "df_best = df_best.set_index(grouping_key)\n",
    "df_best = df_best[\n",
    "    (~df_best.index.isin(tuned_methods, level='undersampling_method')) |\n",
    "    (df_best.index.isin(best_params))\n",
    "].sort_index().reset_index()\n",
    "df_best.shape"
   ]
  },
  {
   "cell_type": "code",
   "execution_count": 15,
   "metadata": {},
   "outputs": [
    {
     "data": {
      "image/png": "[encoded data removed]",
      "text/plain": [
       "<Figure size 432x288 with 1 Axes>"
      ]
     },
     "metadata": {},
     "output_type": "display_data"
    }
   ],
   "source": [
    "DATASET = 'read_criteo'\n",
    "EVALALG = 'catboost'\n",
    "\n",
    "df_plot = df_best[df_best.dataset == DATASET]\n",
    "df_plot = df_plot[df_plot.eval_algorithm == EVALALG]\n",
    "\n",
    "f, ax = plt.subplots(1, 1)\n",
    "sns.boxplot(data=df_plot, x='undersampling_method', y=EVALMETRIC+'_test', ax=ax, color='white', width=.7, fliersize=3)\n",
    "plt.setp(ax.artists, edgecolor = 'k', facecolor='w')\n",
    "plt.setp(ax.lines, color='k')\n",
    "plt.xticks(rotation=70)\n",
    "ax.set_ylabel(EVALMETRIC, fontsize=9)\n",
    "ax.set_xlabel(None, fontsize=6, weight='bold')\n",
    "# ax.set_xticklabels(['Without\\nundersampling', 'Hypper', 'Tomek\\nLinks', 'Random', 'ENN', 'Near-Miss'])\n",
    "f.savefig(f'results_plots/under_criteo_{EVALMETRIC}.pdf')\n",
    "plt.show()"
   ]
  },
  {
   "cell_type": "code",
   "execution_count": 16,
   "metadata": {},
   "outputs": [
    {
     "name": "stdout",
     "output_type": "stream",
     "text": [
      "Undersampling methods: ['edited_nearest_neighbours', 'hypper', 'hypper_equal', 'near_miss', 'random_undersampling', 'tomek_links', 'without_undersampling']\n",
      "Shape: (175, 18)\n",
      "edited_nearest_neighbours average rank: 4.68\n",
      "hypper average rank: 2.38\n",
      "hypper_equal average rank: 4.36\n",
      "near_miss average rank: 6.84\n",
      "random_undersampling average rank: 4.4\n",
      "tomek_links average rank: 3.24\n",
      "without_undersampling average rank: 2.1\n"
     ]
    },
    {
     "data": {
      "image/png": "[encoded data removed]",
      "text/plain": [
       "<Figure size 720x140.4 with 1 Axes>"
      ]
     },
     "metadata": {},
     "output_type": "display_data"
    }
   ],
   "source": [
    "# Friedman test - https://edisciplinas.usp.br/pluginfile.php/4129451/mod_resource/content/1/model_selection_evaluation.pdf\n",
    "df_eval_metric = df_best[df_best.eval_algorithm == EVALALG].set_index(grouping_key).sort_index().reset_index()\n",
    "u_methods = df_eval_metric['undersampling_method'].unique().tolist()\n",
    "datasets = df_eval_metric['dataset'].unique().tolist()\n",
    "kfolds = 5\n",
    "print(f\"Undersampling methods: {u_methods}\")\n",
    "print(f\"Shape: {df_eval_metric.shape}\")\n",
    "\n",
    "df_eval_metric['experiment_num'] = pd.Series(list(range(1,kfolds+1))*len(u_methods)*len(datasets))\n",
    "\n",
    "# display(df_eval_metric[grouping_key+['experiment_num']+[EVALMETRIC+'_test']].head(50))\n",
    "\n",
    "performance_array = df_eval_metric.groupby(['dataset', 'experiment_num'])[EVALMETRIC+'_test'].apply(np.array)\n",
    "# performance_array\n",
    "ranks = np.array([rankdata(-p) for p in performance_array])\n",
    "# print(ranks[:5])\n",
    "average_ranks = np.mean(ranks, axis=0)\n",
    "# print(average_ranks)\n",
    "print('\\n'.join('{} average rank: {}'.format(a, r) for a, r in zip(u_methods, average_ranks)))\n",
    "\n",
    "cd = compute_CD(average_ranks,\n",
    "                n=len(datasets)*kfolds,\n",
    "                alpha='0.1',\n",
    "                test='nemenyi')\n",
    "# This method generates the plot.\n",
    "graph_ranks(average_ranks,\n",
    "            names=u_methods,\n",
    "            cd=cd,\n",
    "            width=10,\n",
    "            textspace=1.5,\n",
    "            reverse=True)\n",
    "plt.savefig('results_plots/under_friedman.pdf')\n",
    "plt.show()"
   ]
  },
  {
   "cell_type": "code",
   "execution_count": null,
   "metadata": {},
   "outputs": [],
   "source": []
  }
 ],
 "metadata": {
  "interpreter": {
   "hash": "a8fb6aee9eee60f2e6276c92271702ff4816e3aa716a44f4c3f626c211add89b"
  },
  "kernelspec": {
   "display_name": "Python 3.7.13 ('venv3.7': venv)",
   "language": "python",
   "name": "python3"
  },
  "language_info": {
   "codemirror_mode": {
    "name": "ipython",
    "version": 3
   },
   "file_extension": ".py",
   "mimetype": "text/x-python",
   "name": "python",
   "nbconvert_exporter": "python",
   "pygments_lexer": "ipython3",
   "version": "3.7.13"
  },
  "orig_nbformat": 4
 },
 "nbformat": 4,
 "nbformat_minor": 2
}

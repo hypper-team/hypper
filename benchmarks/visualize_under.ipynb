{
 "cells": [
  {
   "cell_type": "code",
   "execution_count": 1,
   "metadata": {},
   "outputs": [],
   "source": [
    "import seaborn as sns\n",
    "import pandas as pd\n",
    "import numpy as np\n",
    "import matplotlib.pyplot as plt\n",
    "\n",
    "from copy import deepcopy\n",
    "from IPython.display import display, HTML\n",
    "from scipy.stats import rankdata\n",
    "from Orange.evaluation import compute_CD, graph_ranks\n",
    "\n",
    "sns.set_style(\"ticks\", {\n",
    "    'axes.grid': True,\n",
    "    'grid.color': '.5'})\n",
    "sns.set_context(\"paper\")\n",
    "# sns.set_palette(\"crest\")\n",
    "# sns.color_palette(\"muted\")\n",
    "# sns.color_palette(\"crest\", as_cmap=True)\n",
    "pd.set_option('display.max_rows', None)\n",
    "pd.set_option('display.max_colwidth', None)"
   ]
  },
  {
   "cell_type": "code",
   "execution_count": 2,
   "metadata": {},
   "outputs": [],
   "source": [
    "EVALMETRIC = 'roc_auc'"
   ]
  },
  {
   "cell_type": "code",
   "execution_count": 3,
   "metadata": {},
   "outputs": [
    {
     "data": {
      "text/html": [
       "<div>\n",
       "<style scoped>\n",
       "    .dataframe tbody tr th:only-of-type {\n",
       "        vertical-align: middle;\n",
       "    }\n",
       "\n",
       "    .dataframe tbody tr th {\n",
       "        vertical-align: top;\n",
       "    }\n",
       "\n",
       "    .dataframe thead th {\n",
       "        text-align: right;\n",
       "    }\n",
       "</style>\n",
       "<table border=\"1\" class=\"dataframe\">\n",
       "  <thead>\n",
       "    <tr style=\"text-align: right;\">\n",
       "      <th></th>\n",
       "      <th>dataset</th>\n",
       "      <th>undersampling_method</th>\n",
       "      <th>eval_algorithm</th>\n",
       "      <th>parameters</th>\n",
       "      <th>accuracy_val</th>\n",
       "      <th>balanced_accuracy_val</th>\n",
       "      <th>roc_auc_val</th>\n",
       "      <th>average_precision_val</th>\n",
       "      <th>precision_val</th>\n",
       "      <th>recall_val</th>\n",
       "      <th>f1_val</th>\n",
       "      <th>accuracy_test</th>\n",
       "      <th>balanced_accuracy_test</th>\n",
       "      <th>roc_auc_test</th>\n",
       "      <th>average_precision_test</th>\n",
       "      <th>precision_test</th>\n",
       "      <th>recall_test</th>\n",
       "      <th>f1_test</th>\n",
       "    </tr>\n",
       "  </thead>\n",
       "  <tbody>\n",
       "    <tr>\n",
       "      <th>0</th>\n",
       "      <td>read_german_data</td>\n",
       "      <td>hypper_equal</td>\n",
       "      <td>LogisticRegression</td>\n",
       "      <td>{'majority_left_threshold': 0.0, 'method': 'hypper', 'randomize_A': 0.0, 'version': 1, 'weighting_history': True, 'weighting_iteration': 1, 'weighting_normalization_strategy': 'max'}</td>\n",
       "      <td>0.634731</td>\n",
       "      <td>0.695292</td>\n",
       "      <td>0.790260</td>\n",
       "      <td>0.892308</td>\n",
       "      <td>0.833137</td>\n",
       "      <td>0.517857</td>\n",
       "      <td>0.655367</td>\n",
       "      <td>0.622754</td>\n",
       "      <td>0.671676</td>\n",
       "      <td>0.718033</td>\n",
       "      <td>0.873418</td>\n",
       "      <td>0.848003</td>\n",
       "      <td>0.565574</td>\n",
       "      <td>0.686567</td>\n",
       "    </tr>\n",
       "    <tr>\n",
       "      <th>1</th>\n",
       "      <td>read_german_data</td>\n",
       "      <td>hypper_equal</td>\n",
       "      <td>MLPClassifier</td>\n",
       "      <td>{'majority_left_threshold': 0.0, 'method': 'hypper', 'randomize_A': 0.0, 'version': 1, 'weighting_history': True, 'weighting_iteration': 1, 'weighting_normalization_strategy': 'max'}</td>\n",
       "      <td>0.706587</td>\n",
       "      <td>0.684091</td>\n",
       "      <td>0.753734</td>\n",
       "      <td>0.800000</td>\n",
       "      <td>0.838609</td>\n",
       "      <td>0.750000</td>\n",
       "      <td>0.774194</td>\n",
       "      <td>0.718563</td>\n",
       "      <td>0.688160</td>\n",
       "      <td>0.734973</td>\n",
       "      <td>0.844037</td>\n",
       "      <td>0.857878</td>\n",
       "      <td>0.754098</td>\n",
       "      <td>0.796537</td>\n",
       "    </tr>\n",
       "    <tr>\n",
       "      <th>2</th>\n",
       "      <td>read_german_data</td>\n",
       "      <td>hypper_equal</td>\n",
       "      <td>CatBoostClassifier</td>\n",
       "      <td>{'majority_left_threshold': 0.0, 'method': 'hypper', 'randomize_A': 0.0, 'version': 1, 'weighting_history': True, 'weighting_iteration': 1, 'weighting_normalization_strategy': 'max'}</td>\n",
       "      <td>0.622754</td>\n",
       "      <td>0.686364</td>\n",
       "      <td>0.773701</td>\n",
       "      <td>0.888889</td>\n",
       "      <td>0.848463</td>\n",
       "      <td>0.500000</td>\n",
       "      <td>0.640000</td>\n",
       "      <td>0.604790</td>\n",
       "      <td>0.680419</td>\n",
       "      <td>0.756102</td>\n",
       "      <td>0.900000</td>\n",
       "      <td>0.866565</td>\n",
       "      <td>0.516393</td>\n",
       "      <td>0.656250</td>\n",
       "    </tr>\n",
       "  </tbody>\n",
       "</table>\n",
       "</div>"
      ],
      "text/plain": [
       "            dataset undersampling_method      eval_algorithm  \\\n",
       "0  read_german_data         hypper_equal  LogisticRegression   \n",
       "1  read_german_data         hypper_equal       MLPClassifier   \n",
       "2  read_german_data         hypper_equal  CatBoostClassifier   \n",
       "\n",
       "                                                                                                                                                                               parameters  \\\n",
       "0  {'majority_left_threshold': 0.0, 'method': 'hypper', 'randomize_A': 0.0, 'version': 1, 'weighting_history': True, 'weighting_iteration': 1, 'weighting_normalization_strategy': 'max'}   \n",
       "1  {'majority_left_threshold': 0.0, 'method': 'hypper', 'randomize_A': 0.0, 'version': 1, 'weighting_history': True, 'weighting_iteration': 1, 'weighting_normalization_strategy': 'max'}   \n",
       "2  {'majority_left_threshold': 0.0, 'method': 'hypper', 'randomize_A': 0.0, 'version': 1, 'weighting_history': True, 'weighting_iteration': 1, 'weighting_normalization_strategy': 'max'}   \n",
       "\n",
       "   accuracy_val  balanced_accuracy_val  roc_auc_val  average_precision_val  \\\n",
       "0      0.634731               0.695292     0.790260               0.892308   \n",
       "1      0.706587               0.684091     0.753734               0.800000   \n",
       "2      0.622754               0.686364     0.773701               0.888889   \n",
       "\n",
       "   precision_val  recall_val    f1_val  accuracy_test  balanced_accuracy_test  \\\n",
       "0       0.833137    0.517857  0.655367       0.622754                0.671676   \n",
       "1       0.838609    0.750000  0.774194       0.718563                0.688160   \n",
       "2       0.848463    0.500000  0.640000       0.604790                0.680419   \n",
       "\n",
       "   roc_auc_test  average_precision_test  precision_test  recall_test   f1_test  \n",
       "0      0.718033                0.873418        0.848003     0.565574  0.686567  \n",
       "1      0.734973                0.844037        0.857878     0.754098  0.796537  \n",
       "2      0.756102                0.900000        0.866565     0.516393  0.656250  "
      ]
     },
     "execution_count": 3,
     "metadata": {},
     "output_type": "execute_result"
    }
   ],
   "source": [
    "df = pd.read_csv(\"results_df/undersampling_exp.csv\", index_col=0)\n",
    "df.loc[df.parameters.str.contains(pat=\"majority_left_threshold': 0.0\"), 'undersampling_method'] = 'hypper_equal'\n",
    "df.head(3)"
   ]
  },
  {
   "cell_type": "code",
   "execution_count": 4,
   "metadata": {},
   "outputs": [
    {
     "name": "stdout",
     "output_type": "stream",
     "text": [
      "Undersampling methods: ['hypper_equal', 'hypper', 'without_undersampling', 'tomek_links', 'edited_nearest_neighbours', 'random_undersampling', 'near_miss']\n",
      "Datasets: ['read_german_data', 'read_spect_heart', 'read_banking', 'read_hr', 'read_criteo']\n",
      "Evaluation models: ['LogisticRegression', 'MLPClassifier', 'CatBoostClassifier', 'LGBMClassifier']\n"
     ]
    }
   ],
   "source": [
    "print(f\"Undersampling methods: {df['undersampling_method'].unique().tolist()}\")\n",
    "print(f\"Datasets: {df['dataset'].unique().tolist()}\")\n",
    "print(f\"Evaluation models: {df['eval_algorithm'].unique().tolist()}\")\n",
    "# print(f\"Parameters sets: {df['parameters'].unique().tolist()}\")"
   ]
  },
  {
   "cell_type": "code",
   "execution_count": 10,
   "metadata": {},
   "outputs": [
    {
     "name": "stdout",
     "output_type": "stream",
     "text": [
      "80\n"
     ]
    },
    {
     "data": {
      "text/plain": [
       "[('hypper',\n",
       "  'read_banking',\n",
       "  'CatBoostClassifier',\n",
       "  \"{'majority_left_threshold': 0.7, 'method': 'hypper', 'randomize_A': 15.0, 'version': 5, 'weighting_history': True, 'weighting_iteration': 2, 'weighting_normalization_strategy': 'l1'}\"),\n",
       " ('hypper',\n",
       "  'read_banking',\n",
       "  'LGBMClassifier',\n",
       "  \"{'majority_left_threshold': 0.7, 'method': 'hypper', 'randomize_A': 15.0, 'version': 1, 'weighting_history': True, 'weighting_iteration': 2, 'weighting_normalization_strategy': 'l1'}\")]"
      ]
     },
     "execution_count": 10,
     "metadata": {},
     "output_type": "execute_result"
    }
   ],
   "source": [
    "# Select best hypper params validation data\n",
    "tuned_methods = ['hypper', 'hypper_equal', 'near_miss', 'random_undersampling']\n",
    "grouping_key = ['undersampling_method','dataset','eval_algorithm','parameters']\n",
    "df_test = df[df.undersampling_method.isin(tuned_methods)]\n",
    "\n",
    "df_test = df_test.groupby(grouping_key).mean()\n",
    "metric = [EVALMETRIC+'_val', EVALMETRIC+'_test']\n",
    "df_test = df_test[metric].sort_values(by=EVALMETRIC+'_val', ascending=False)\n",
    "df_test = df_test.groupby(grouping_key[:-1]).head(1).reset_index().set_index(grouping_key).sort_index()\n",
    "best_params = list(df_test.index)\n",
    "print(len(best_params))\n",
    "best_params[:2]"
   ]
  },
  {
   "cell_type": "code",
   "execution_count": 11,
   "metadata": {},
   "outputs": [
    {
     "name": "stdout",
     "output_type": "stream",
     "text": [
      "(26400, 18)\n"
     ]
    },
    {
     "data": {
      "text/plain": [
       "(420, 18)"
      ]
     },
     "execution_count": 11,
     "metadata": {},
     "output_type": "execute_result"
    }
   ],
   "source": [
    "print(df.shape)\n",
    "df_best = deepcopy(df)\n",
    "df_best = df_best.set_index(grouping_key)\n",
    "df_best = df_best[\n",
    "    (~df_best.index.isin(tuned_methods, level='undersampling_method')) |\n",
    "    (df_best.index.isin(best_params))\n",
    "].sort_index().reset_index()\n",
    "df_best.shape"
   ]
  },
  {
   "cell_type": "code",
   "execution_count": 12,
   "metadata": {},
   "outputs": [
    {
     "data": {
      "image/png": "[encoded data removed]",
      "text/plain": [
       "<Figure size 432x288 with 1 Axes>"
      ]
     },
     "metadata": {
      "needs_background": "light"
     },
     "output_type": "display_data"
    }
   ],
   "source": [
    "DATASET = 'read_criteo'\n",
    "EVALALG = 'CatBoostClassifier'\n",
    "\n",
    "df_plot = df_best[df_best.dataset == DATASET]\n",
    "df_plot = df_plot[df_plot.eval_algorithm == EVALALG]\n",
    "\n",
    "f, ax = plt.subplots(1, 1)\n",
    "sns.boxplot(data=df_plot, x='undersampling_method', y=EVALMETRIC+'_test', ax=ax, color='white', width=.7, fliersize=3)\n",
    "plt.setp(ax.artists, edgecolor = 'k', facecolor='w')\n",
    "plt.setp(ax.lines, color='k')\n",
    "plt.xticks(rotation=70)\n",
    "ax.set_ylabel(EVALMETRIC, fontsize=9)\n",
    "ax.set_xlabel(None, fontsize=6, weight='bold')\n",
    "# ax.set_xticklabels(['Without\\nundersampling', 'Hypper', 'Tomek\\nLinks', 'Random', 'ENN', 'Near-Miss'])\n",
    "f.savefig(f'results_plots/under_criteo_{EVALMETRIC}.pdf')\n",
    "plt.show()"
   ]
  },
  {
   "cell_type": "code",
   "execution_count": 13,
   "metadata": {},
   "outputs": [
    {
     "name": "stdout",
     "output_type": "stream",
     "text": [
      "Undersampling methods: ['edited_nearest_neighbours', 'hypper', 'hypper_equal', 'near_miss', 'random_undersampling', 'tomek_links', 'without_undersampling']\n",
      "Shape: (105, 18)\n",
      "edited_nearest_neighbours average rank: 5.2\n",
      "hypper average rank: 2.6\n",
      "hypper_equal average rank: 4.6\n",
      "near_miss average rank: 6.6\n",
      "random_undersampling average rank: 2.6\n",
      "tomek_links average rank: 3.4\n",
      "without_undersampling average rank: 3.0\n"
     ]
    },
    {
     "data": {
      "image/png": "[encoded data removed]",
      "text/plain": [
       "<Figure size 720x154.8 with 1 Axes>"
      ]
     },
     "metadata": {},
     "output_type": "display_data"
    }
   ],
   "source": [
    "# Friedman test - https://edisciplinas.usp.br/pluginfile.php/4129451/mod_resource/content/1/model_selection_evaluation.pdf\n",
    "df_eval_metric = df_best[df_best.eval_algorithm == EVALALG].set_index(grouping_key).sort_index().reset_index()\n",
    "u_methods = df_eval_metric['undersampling_method'].unique().tolist()\n",
    "datasets = df_eval_metric['dataset'].unique().tolist()\n",
    "kfolds = 5\n",
    "print(f\"Undersampling methods: {u_methods}\")\n",
    "print(f\"Shape: {df_eval_metric.shape}\")\n",
    "\n",
    "df_eval_metric['experiment_num'] = pd.Series(list(range(1,kfolds+1))*len(u_methods)*len(datasets))\n",
    "\n",
    "# display(df_eval_metric[grouping_key+['experiment_num']+[EVALMETRIC+'_test']].head(50))\n",
    "\n",
    "performance_array = df_eval_metric.groupby(['dataset', 'experiment_num'])[EVALMETRIC+'_test'].apply(np.array)\n",
    "# performance_array\n",
    "ranks = np.array([rankdata(-p) for p in performance_array])\n",
    "# print(ranks[:5])\n",
    "average_ranks = np.mean(ranks, axis=0)\n",
    "# print(average_ranks)\n",
    "print('\\n'.join('{} average rank: {}'.format(a, r) for a, r in zip(u_methods, average_ranks)))\n",
    "\n",
    "cd = compute_CD(average_ranks,\n",
    "                n=len(datasets)*kfolds,\n",
    "                alpha='0.1',\n",
    "                test='nemenyi')\n",
    "# This method generates the plot.\n",
    "graph_ranks(average_ranks,\n",
    "            names=u_methods,\n",
    "            cd=cd,\n",
    "            width=10,\n",
    "            textspace=1.5,\n",
    "            reverse=True)\n",
    "plt.savefig('results_plots/under_friedman.pdf')\n",
    "plt.show()"
   ]
  },
  {
   "cell_type": "markdown",
   "metadata": {},
   "source": [
    "#### Random vs Hypper"
   ]
  },
  {
   "cell_type": "code",
   "execution_count": 24,
   "metadata": {},
   "outputs": [
    {
     "data": {
      "text/html": [
       "<div>\n",
       "<style scoped>\n",
       "    .dataframe tbody tr th:only-of-type {\n",
       "        vertical-align: middle;\n",
       "    }\n",
       "\n",
       "    .dataframe tbody tr th {\n",
       "        vertical-align: top;\n",
       "    }\n",
       "\n",
       "    .dataframe thead th {\n",
       "        text-align: right;\n",
       "    }\n",
       "</style>\n",
       "<table border=\"1\" class=\"dataframe\">\n",
       "  <thead>\n",
       "    <tr style=\"text-align: right;\">\n",
       "      <th></th>\n",
       "      <th>dataset</th>\n",
       "      <th>undersampling_method</th>\n",
       "      <th>eval_algorithm</th>\n",
       "      <th>parameters</th>\n",
       "      <th>accuracy_val</th>\n",
       "      <th>balanced_accuracy_val</th>\n",
       "      <th>roc_auc_val</th>\n",
       "      <th>average_precision_val</th>\n",
       "      <th>precision_val</th>\n",
       "      <th>recall_val</th>\n",
       "      <th>f1_val</th>\n",
       "      <th>accuracy_test</th>\n",
       "      <th>balanced_accuracy_test</th>\n",
       "      <th>roc_auc_test</th>\n",
       "      <th>average_precision_test</th>\n",
       "      <th>precision_test</th>\n",
       "      <th>recall_test</th>\n",
       "      <th>f1_test</th>\n",
       "    </tr>\n",
       "  </thead>\n",
       "  <tbody>\n",
       "    <tr>\n",
       "      <th>0</th>\n",
       "      <td>read_german_data</td>\n",
       "      <td>hypper_0.0</td>\n",
       "      <td>LogisticRegression</td>\n",
       "      <td>{'majority_left_threshold': 0.0, 'method': 'hypper', 'randomize_A': 0.0, 'version': 1, 'weighting_history': True, 'weighting_iteration': 1, 'weighting_normalization_strategy': 'max'}</td>\n",
       "      <td>0.634731</td>\n",
       "      <td>0.695292</td>\n",
       "      <td>0.790260</td>\n",
       "      <td>0.892308</td>\n",
       "      <td>0.833137</td>\n",
       "      <td>0.517857</td>\n",
       "      <td>0.655367</td>\n",
       "      <td>0.622754</td>\n",
       "      <td>0.671676</td>\n",
       "      <td>0.718033</td>\n",
       "      <td>0.873418</td>\n",
       "      <td>0.848003</td>\n",
       "      <td>0.565574</td>\n",
       "      <td>0.686567</td>\n",
       "    </tr>\n",
       "    <tr>\n",
       "      <th>1</th>\n",
       "      <td>read_german_data</td>\n",
       "      <td>hypper_0.0</td>\n",
       "      <td>MLPClassifier</td>\n",
       "      <td>{'majority_left_threshold': 0.0, 'method': 'hypper', 'randomize_A': 0.0, 'version': 1, 'weighting_history': True, 'weighting_iteration': 1, 'weighting_normalization_strategy': 'max'}</td>\n",
       "      <td>0.706587</td>\n",
       "      <td>0.684091</td>\n",
       "      <td>0.753734</td>\n",
       "      <td>0.800000</td>\n",
       "      <td>0.838609</td>\n",
       "      <td>0.750000</td>\n",
       "      <td>0.774194</td>\n",
       "      <td>0.718563</td>\n",
       "      <td>0.688160</td>\n",
       "      <td>0.734973</td>\n",
       "      <td>0.844037</td>\n",
       "      <td>0.857878</td>\n",
       "      <td>0.754098</td>\n",
       "      <td>0.796537</td>\n",
       "    </tr>\n",
       "    <tr>\n",
       "      <th>2</th>\n",
       "      <td>read_german_data</td>\n",
       "      <td>hypper_0.0</td>\n",
       "      <td>CatBoostClassifier</td>\n",
       "      <td>{'majority_left_threshold': 0.0, 'method': 'hypper', 'randomize_A': 0.0, 'version': 1, 'weighting_history': True, 'weighting_iteration': 1, 'weighting_normalization_strategy': 'max'}</td>\n",
       "      <td>0.622754</td>\n",
       "      <td>0.686364</td>\n",
       "      <td>0.773701</td>\n",
       "      <td>0.888889</td>\n",
       "      <td>0.848463</td>\n",
       "      <td>0.500000</td>\n",
       "      <td>0.640000</td>\n",
       "      <td>0.604790</td>\n",
       "      <td>0.680419</td>\n",
       "      <td>0.756102</td>\n",
       "      <td>0.900000</td>\n",
       "      <td>0.866565</td>\n",
       "      <td>0.516393</td>\n",
       "      <td>0.656250</td>\n",
       "    </tr>\n",
       "  </tbody>\n",
       "</table>\n",
       "</div>"
      ],
      "text/plain": [
       "            dataset undersampling_method      eval_algorithm  \\\n",
       "0  read_german_data           hypper_0.0  LogisticRegression   \n",
       "1  read_german_data           hypper_0.0       MLPClassifier   \n",
       "2  read_german_data           hypper_0.0  CatBoostClassifier   \n",
       "\n",
       "                                                                                                                                                                               parameters  \\\n",
       "0  {'majority_left_threshold': 0.0, 'method': 'hypper', 'randomize_A': 0.0, 'version': 1, 'weighting_history': True, 'weighting_iteration': 1, 'weighting_normalization_strategy': 'max'}   \n",
       "1  {'majority_left_threshold': 0.0, 'method': 'hypper', 'randomize_A': 0.0, 'version': 1, 'weighting_history': True, 'weighting_iteration': 1, 'weighting_normalization_strategy': 'max'}   \n",
       "2  {'majority_left_threshold': 0.0, 'method': 'hypper', 'randomize_A': 0.0, 'version': 1, 'weighting_history': True, 'weighting_iteration': 1, 'weighting_normalization_strategy': 'max'}   \n",
       "\n",
       "   accuracy_val  balanced_accuracy_val  roc_auc_val  average_precision_val  \\\n",
       "0      0.634731               0.695292     0.790260               0.892308   \n",
       "1      0.706587               0.684091     0.753734               0.800000   \n",
       "2      0.622754               0.686364     0.773701               0.888889   \n",
       "\n",
       "   precision_val  recall_val    f1_val  accuracy_test  balanced_accuracy_test  \\\n",
       "0       0.833137    0.517857  0.655367       0.622754                0.671676   \n",
       "1       0.838609    0.750000  0.774194       0.718563                0.688160   \n",
       "2       0.848463    0.500000  0.640000       0.604790                0.680419   \n",
       "\n",
       "   roc_auc_test  average_precision_test  precision_test  recall_test   f1_test  \n",
       "0      0.718033                0.873418        0.848003     0.565574  0.686567  \n",
       "1      0.734973                0.844037        0.857878     0.754098  0.796537  \n",
       "2      0.756102                0.900000        0.866565     0.516393  0.656250  "
      ]
     },
     "execution_count": 24,
     "metadata": {},
     "output_type": "execute_result"
    }
   ],
   "source": [
    "df = pd.read_csv(\"results_df/undersampling_exp.csv\", index_col=0)\n",
    "df = df[df.undersampling_method.isin([\"hypper\", \"random_undersampling\"])]\n",
    "for threshold in [0.0, 0.5, 0.7]:\n",
    "    for ua in ['hypper', 'random_undersampling']:\n",
    "        df.loc[\n",
    "            df.parameters.str.contains(pat=f\"majority_left_threshold': {threshold}\") & \\\n",
    "            (df.undersampling_method == ua), 'undersampling_method'] = f'{ua}_{threshold}'\n",
    "df.head(3)"
   ]
  },
  {
   "cell_type": "code",
   "execution_count": 25,
   "metadata": {},
   "outputs": [
    {
     "name": "stdout",
     "output_type": "stream",
     "text": [
      "Undersampling methods: ['hypper_0.0', 'hypper_0.5', 'hypper_0.7', 'random_undersampling_0.0', 'random_undersampling_0.5', 'random_undersampling_0.7']\n",
      "Datasets: ['read_german_data', 'read_spect_heart', 'read_banking', 'read_hr', 'read_criteo']\n",
      "Evaluation models: ['LogisticRegression', 'MLPClassifier', 'CatBoostClassifier', 'LGBMClassifier']\n"
     ]
    }
   ],
   "source": [
    "print(f\"Undersampling methods: {df['undersampling_method'].unique().tolist()}\")\n",
    "print(f\"Datasets: {df['dataset'].unique().tolist()}\")\n",
    "print(f\"Evaluation models: {df['eval_algorithm'].unique().tolist()}\")"
   ]
  },
  {
   "cell_type": "code",
   "execution_count": 26,
   "metadata": {},
   "outputs": [
    {
     "name": "stdout",
     "output_type": "stream",
     "text": [
      "120\n"
     ]
    },
    {
     "data": {
      "text/plain": [
       "[('hypper_0.0',\n",
       "  'read_banking',\n",
       "  'CatBoostClassifier',\n",
       "  \"{'majority_left_threshold': 0.0, 'method': 'hypper', 'randomize_A': 40.0, 'version': 5, 'weighting_history': True, 'weighting_iteration': 3, 'weighting_normalization_strategy': 'l2'}\"),\n",
       " ('hypper_0.0',\n",
       "  'read_banking',\n",
       "  'LGBMClassifier',\n",
       "  \"{'majority_left_threshold': 0.0, 'method': 'hypper', 'randomize_A': 15.0, 'version': 5, 'weighting_history': True, 'weighting_iteration': 1, 'weighting_normalization_strategy': 'l1'}\")]"
      ]
     },
     "execution_count": 26,
     "metadata": {},
     "output_type": "execute_result"
    }
   ],
   "source": [
    "tuned_methods = ['hypper_0.0', 'hypper_0.5', 'hypper_0.7', 'random_undersampling_0.0', 'random_undersampling_0.5', 'random_undersampling_0.7']\n",
    "grouping_key = ['undersampling_method','dataset','eval_algorithm','parameters']\n",
    "df_test = df[df.undersampling_method.isin(tuned_methods)]\n",
    "\n",
    "df_test = df_test.groupby(grouping_key).mean()\n",
    "metric = [EVALMETRIC+'_val', EVALMETRIC+'_test']\n",
    "df_test = df_test[metric].sort_values(by=EVALMETRIC+'_val', ascending=False)\n",
    "df_test = df_test.groupby(grouping_key[:-1]).head(1).reset_index().set_index(grouping_key).sort_index()\n",
    "best_params = list(df_test.index)\n",
    "print(len(best_params))\n",
    "best_params[:2]"
   ]
  },
  {
   "cell_type": "code",
   "execution_count": 27,
   "metadata": {},
   "outputs": [
    {
     "name": "stdout",
     "output_type": "stream",
     "text": [
      "(26100, 18)\n"
     ]
    },
    {
     "data": {
      "text/plain": [
       "(360, 18)"
      ]
     },
     "execution_count": 27,
     "metadata": {},
     "output_type": "execute_result"
    }
   ],
   "source": [
    "print(df.shape)\n",
    "df_best = deepcopy(df)\n",
    "df_best = df_best.set_index(grouping_key)\n",
    "df_best = df_best[\n",
    "    (~df_best.index.isin(tuned_methods, level='undersampling_method')) |\n",
    "    (df_best.index.isin(best_params))\n",
    "].sort_index().reset_index()\n",
    "df_best.shape"
   ]
  },
  {
   "cell_type": "code",
   "execution_count": 28,
   "metadata": {},
   "outputs": [
    {
     "data": {
      "image/png": "[encoded data removed]",
      "text/plain": [
       "<Figure size 432x288 with 1 Axes>"
      ]
     },
     "metadata": {
      "needs_background": "light"
     },
     "output_type": "display_data"
    }
   ],
   "source": [
    "DATASET = 'read_criteo'\n",
    "EVALALG = 'CatBoostClassifier'\n",
    "\n",
    "df_plot = df_best[df_best.dataset == DATASET]\n",
    "df_plot = df_plot[df_plot.eval_algorithm == EVALALG]\n",
    "\n",
    "f, ax = plt.subplots(1, 1)\n",
    "sns.boxplot(data=df_plot, x='undersampling_method', y=EVALMETRIC+'_test', ax=ax, color='white', width=.7, fliersize=3)\n",
    "plt.setp(ax.artists, edgecolor = 'k', facecolor='w')\n",
    "plt.setp(ax.lines, color='k')\n",
    "plt.xticks(rotation=70)\n",
    "ax.set_ylabel(EVALMETRIC, fontsize=9)\n",
    "ax.set_xlabel(None, fontsize=6, weight='bold')\n",
    "# ax.set_xticklabels(['Without\\nundersampling', 'Hypper', 'Tomek\\nLinks', 'Random', 'ENN', 'Near-Miss'])\n",
    "f.savefig(f'results_plots/underrandom_criteo_{EVALMETRIC}.pdf')\n",
    "plt.show()"
   ]
  },
  {
   "cell_type": "code",
   "execution_count": 29,
   "metadata": {},
   "outputs": [
    {
     "name": "stdout",
     "output_type": "stream",
     "text": [
      "Undersampling methods: ['hypper_0.0', 'hypper_0.5', 'hypper_0.7', 'random_undersampling_0.0', 'random_undersampling_0.5', 'random_undersampling_0.7']\n",
      "Shape: (90, 18)\n",
      "hypper_0.0 average rank: 4.666666666666667\n",
      "hypper_0.5 average rank: 3.066666666666667\n",
      "hypper_0.7 average rank: 2.9\n",
      "random_undersampling_0.0 average rank: 4.8\n",
      "random_undersampling_0.5 average rank: 3.533333333333333\n",
      "random_undersampling_0.7 average rank: 2.033333333333333\n"
     ]
    },
    {
     "data": {
      "image/png": "[encoded data removed]",
      "text/plain": [
       "<Figure size 720x140.4 with 1 Axes>"
      ]
     },
     "metadata": {},
     "output_type": "display_data"
    }
   ],
   "source": [
    "# Friedman test - https://edisciplinas.usp.br/pluginfile.php/4129451/mod_resource/content/1/model_selection_evaluation.pdf\n",
    "df_eval_metric = df_best[df_best.eval_algorithm == EVALALG].set_index(grouping_key).sort_index().reset_index()\n",
    "u_methods = df_eval_metric['undersampling_method'].unique().tolist()\n",
    "datasets = df_eval_metric['dataset'].unique().tolist()\n",
    "kfolds = 5\n",
    "print(f\"Undersampling methods: {u_methods}\")\n",
    "print(f\"Shape: {df_eval_metric.shape}\")\n",
    "\n",
    "df_eval_metric['experiment_num'] = pd.Series(list(range(1,kfolds+1))*len(u_methods)*len(datasets))\n",
    "\n",
    "# display(df_eval_metric[grouping_key+['experiment_num']+[EVALMETRIC+'_test']].head(50))\n",
    "\n",
    "performance_array = df_eval_metric.groupby(['dataset', 'experiment_num'])[EVALMETRIC+'_test'].apply(np.array)\n",
    "# performance_array\n",
    "ranks = np.array([rankdata(-p) for p in performance_array])\n",
    "# print(ranks[:5])\n",
    "average_ranks = np.mean(ranks, axis=0)\n",
    "# print(average_ranks)\n",
    "print('\\n'.join('{} average rank: {}'.format(a, r) for a, r in zip(u_methods, average_ranks)))\n",
    "\n",
    "cd = compute_CD(average_ranks,\n",
    "                n=len(datasets)*kfolds,\n",
    "                alpha='0.1',\n",
    "                test='nemenyi')\n",
    "# This method generates the plot.\n",
    "graph_ranks(average_ranks,\n",
    "            names=u_methods,\n",
    "            cd=cd,\n",
    "            width=10,\n",
    "            textspace=1.5,\n",
    "            reverse=True)\n",
    "plt.savefig('results_plots/underrandom_friedman.pdf')\n",
    "plt.show()"
   ]
  },
  {
   "cell_type": "code",
   "execution_count": null,
   "metadata": {},
   "outputs": [],
   "source": []
  }
 ],
 "metadata": {
  "interpreter": {
   "hash": "a8fb6aee9eee60f2e6276c92271702ff4816e3aa716a44f4c3f626c211add89b"
  },
  "kernelspec": {
   "display_name": "Python 3.7.13 ('venv3.7': venv)",
   "language": "python",
   "name": "python3"
  },
  "language_info": {
   "codemirror_mode": {
    "name": "ipython",
    "version": 3
   },
   "file_extension": ".py",
   "mimetype": "text/x-python",
   "name": "python",
   "nbconvert_exporter": "python",
   "pygments_lexer": "ipython3",
   "version": "3.7.13"
  },
  "orig_nbformat": 4
 },
 "nbformat": 4,
 "nbformat_minor": 2
}

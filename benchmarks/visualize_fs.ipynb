{
 "cells": [
  {
   "cell_type": "code",
   "execution_count": 1,
   "metadata": {},
   "outputs": [],
   "source": [
    "import seaborn as sns\n",
    "import pandas as pd\n",
    "import numpy as np\n",
    "import matplotlib.pyplot as plt\n",
    "\n",
    "from copy import deepcopy\n",
    "from pathlib import Path\n",
    "from IPython.display import display, HTML\n",
    "from scipy.stats import rankdata\n",
    "from Orange.evaluation import compute_CD, graph_ranks\n",
    "\n",
    "sns.set_style(\"ticks\", {\n",
    "    'axes.grid': True,\n",
    "    'grid.color': '.5'})\n",
    "sns.set_context(\"paper\")\n",
    "# sns.set_palette(\"crest\")\n",
    "# sns.color_palette(\"muted\")\n",
    "# sns.color_palette(\"crest\", as_cmap=True)\n",
    "pd.set_option('display.max_rows', None)\n",
    "pd.set_option('display.max_colwidth', None)\n",
    "Path(\"results_plots/\").mkdir(parents=True, exist_ok=True)"
   ]
  },
  {
   "cell_type": "code",
   "execution_count": 2,
   "metadata": {},
   "outputs": [],
   "source": [
    "EVALMETRIC = 'roc_auc'"
   ]
  },
  {
   "cell_type": "code",
   "execution_count": 3,
   "metadata": {},
   "outputs": [
    {
     "data": {
      "text/html": [
       "<div>\n",
       "<style scoped>\n",
       "    .dataframe tbody tr th:only-of-type {\n",
       "        vertical-align: middle;\n",
       "    }\n",
       "\n",
       "    .dataframe tbody tr th {\n",
       "        vertical-align: top;\n",
       "    }\n",
       "\n",
       "    .dataframe thead th {\n",
       "        text-align: right;\n",
       "    }\n",
       "</style>\n",
       "<table border=\"1\" class=\"dataframe\">\n",
       "  <thead>\n",
       "    <tr style=\"text-align: right;\">\n",
       "      <th></th>\n",
       "      <th>dataset</th>\n",
       "      <th>fs_method</th>\n",
       "      <th>eval_algorithm</th>\n",
       "      <th>parameters</th>\n",
       "      <th>po_features</th>\n",
       "      <th>n_features</th>\n",
       "      <th>accuracy_val</th>\n",
       "      <th>balanced_accuracy_val</th>\n",
       "      <th>roc_auc_val</th>\n",
       "      <th>average_precision_val</th>\n",
       "      <th>precision_val</th>\n",
       "      <th>recall_val</th>\n",
       "      <th>f1_val</th>\n",
       "      <th>accuracy_test</th>\n",
       "      <th>balanced_accuracy_test</th>\n",
       "      <th>roc_auc_test</th>\n",
       "      <th>average_precision_test</th>\n",
       "      <th>precision_test</th>\n",
       "      <th>recall_test</th>\n",
       "      <th>f1_test</th>\n",
       "    </tr>\n",
       "  </thead>\n",
       "  <tbody>\n",
       "    <tr>\n",
       "      <th>0</th>\n",
       "      <td>read_german_data</td>\n",
       "      <td>hypper_weights</td>\n",
       "      <td>LogisticRegression</td>\n",
       "      <td>{'feature_values': True, 'method': 'hypper_weights', 'weighting_iterations': 1, 'weighting_normalization_strategy': 'max'}</td>\n",
       "      <td>0.3</td>\n",
       "      <td>222</td>\n",
       "      <td>0.688623</td>\n",
       "      <td>0.666071</td>\n",
       "      <td>0.726867</td>\n",
       "      <td>0.788462</td>\n",
       "      <td>0.838784</td>\n",
       "      <td>0.732143</td>\n",
       "      <td>0.759259</td>\n",
       "      <td>0.712575</td>\n",
       "      <td>0.648998</td>\n",
       "      <td>0.718397</td>\n",
       "      <td>0.813559</td>\n",
       "      <td>0.859453</td>\n",
       "      <td>0.786885</td>\n",
       "      <td>0.800000</td>\n",
       "    </tr>\n",
       "    <tr>\n",
       "      <th>1</th>\n",
       "      <td>read_german_data</td>\n",
       "      <td>hypper_weights</td>\n",
       "      <td>MLPClassifier</td>\n",
       "      <td>{'feature_values': True, 'method': 'hypper_weights', 'weighting_iterations': 1, 'weighting_normalization_strategy': 'max'}</td>\n",
       "      <td>0.3</td>\n",
       "      <td>222</td>\n",
       "      <td>0.658683</td>\n",
       "      <td>0.514205</td>\n",
       "      <td>0.649432</td>\n",
       "      <td>0.677419</td>\n",
       "      <td>0.770356</td>\n",
       "      <td>0.937500</td>\n",
       "      <td>0.786517</td>\n",
       "      <td>0.742515</td>\n",
       "      <td>0.550273</td>\n",
       "      <td>0.667577</td>\n",
       "      <td>0.751592</td>\n",
       "      <td>0.837730</td>\n",
       "      <td>0.967213</td>\n",
       "      <td>0.845878</td>\n",
       "    </tr>\n",
       "    <tr>\n",
       "      <th>2</th>\n",
       "      <td>read_german_data</td>\n",
       "      <td>hypper_weights</td>\n",
       "      <td>CatBoostClassifier</td>\n",
       "      <td>{'feature_values': True, 'method': 'hypper_weights', 'weighting_iterations': 1, 'weighting_normalization_strategy': 'max'}</td>\n",
       "      <td>0.3</td>\n",
       "      <td>222</td>\n",
       "      <td>0.718563</td>\n",
       "      <td>0.609740</td>\n",
       "      <td>0.788880</td>\n",
       "      <td>0.727273</td>\n",
       "      <td>0.854607</td>\n",
       "      <td>0.928571</td>\n",
       "      <td>0.815686</td>\n",
       "      <td>0.790419</td>\n",
       "      <td>0.646175</td>\n",
       "      <td>0.732787</td>\n",
       "      <td>0.795918</td>\n",
       "      <td>0.860723</td>\n",
       "      <td>0.959016</td>\n",
       "      <td>0.869888</td>\n",
       "    </tr>\n",
       "  </tbody>\n",
       "</table>\n",
       "</div>"
      ],
      "text/plain": [
       "            dataset       fs_method      eval_algorithm  \\\n",
       "0  read_german_data  hypper_weights  LogisticRegression   \n",
       "1  read_german_data  hypper_weights       MLPClassifier   \n",
       "2  read_german_data  hypper_weights  CatBoostClassifier   \n",
       "\n",
       "                                                                                                                   parameters  \\\n",
       "0  {'feature_values': True, 'method': 'hypper_weights', 'weighting_iterations': 1, 'weighting_normalization_strategy': 'max'}   \n",
       "1  {'feature_values': True, 'method': 'hypper_weights', 'weighting_iterations': 1, 'weighting_normalization_strategy': 'max'}   \n",
       "2  {'feature_values': True, 'method': 'hypper_weights', 'weighting_iterations': 1, 'weighting_normalization_strategy': 'max'}   \n",
       "\n",
       "   po_features  n_features  accuracy_val  balanced_accuracy_val  roc_auc_val  \\\n",
       "0          0.3         222      0.688623               0.666071     0.726867   \n",
       "1          0.3         222      0.658683               0.514205     0.649432   \n",
       "2          0.3         222      0.718563               0.609740     0.788880   \n",
       "\n",
       "   average_precision_val  precision_val  recall_val    f1_val  accuracy_test  \\\n",
       "0               0.788462       0.838784    0.732143  0.759259       0.712575   \n",
       "1               0.677419       0.770356    0.937500  0.786517       0.742515   \n",
       "2               0.727273       0.854607    0.928571  0.815686       0.790419   \n",
       "\n",
       "   balanced_accuracy_test  roc_auc_test  average_precision_test  \\\n",
       "0                0.648998      0.718397                0.813559   \n",
       "1                0.550273      0.667577                0.751592   \n",
       "2                0.646175      0.732787                0.795918   \n",
       "\n",
       "   precision_test  recall_test   f1_test  \n",
       "0        0.859453     0.786885  0.800000  \n",
       "1        0.837730     0.967213  0.845878  \n",
       "2        0.860723     0.959016  0.869888  "
      ]
     },
     "execution_count": 3,
     "metadata": {},
     "output_type": "execute_result"
    }
   ],
   "source": [
    "df = pd.read_csv(\"results_df/fv_selection_exp.csv\", index_col=0)\n",
    "df.head(3)"
   ]
  },
  {
   "cell_type": "code",
   "execution_count": 4,
   "metadata": {},
   "outputs": [
    {
     "name": "stdout",
     "output_type": "stream",
     "text": [
      "FS methods: ['hypper_weights', 'hypper_rw', 'random_forest', 'logistic_regression', 'random']\n",
      "Datasets: ['read_german_data', 'read_spect_heart', 'read_breast_cancer_data', 'read_congressional_voting_records', 'read_phishing', 'read_hr']\n",
      "Evaluation models: ['LogisticRegression', 'MLPClassifier', 'CatBoostClassifier', 'LGBMClassifier']\n"
     ]
    }
   ],
   "source": [
    "print(f\"FS methods: {df['fs_method'].unique().tolist()}\")\n",
    "print(f\"Datasets: {df['dataset'].unique().tolist()}\")\n",
    "print(f\"Evaluation models: {df['eval_algorithm'].unique().tolist()}\")\n",
    "# print(f\"Parameters sets: {df['parameters'].unique().tolist()}\")"
   ]
  },
  {
   "cell_type": "code",
   "execution_count": 5,
   "metadata": {},
   "outputs": [
    {
     "name": "stdout",
     "output_type": "stream",
     "text": [
      "96\n"
     ]
    },
    {
     "data": {
      "text/plain": [
       "[('hypper_rw',\n",
       "  'read_breast_cancer_data',\n",
       "  'CatBoostClassifier',\n",
       "  0.3,\n",
       "  \"{'feature_values': True, 'iterations': 10000, 'method': 'hypper_rw', 'scoring_variant': 'v1_3', 'walk_length': 3}\"),\n",
       " ('hypper_rw',\n",
       "  'read_breast_cancer_data',\n",
       "  'CatBoostClassifier',\n",
       "  0.5,\n",
       "  \"{'feature_values': True, 'iterations': 10000, 'method': 'hypper_rw', 'scoring_variant': 'v1_3', 'walk_length': 3}\")]"
      ]
     },
     "execution_count": 5,
     "metadata": {},
     "output_type": "execute_result"
    }
   ],
   "source": [
    "# Select best hypper params validation data\n",
    "tuned_methods = ['hypper_weights', 'hypper_rw']\n",
    "grouping_key = ['fs_method','dataset','eval_algorithm','po_features','parameters']\n",
    "df_test = df[df.fs_method.isin(tuned_methods)]\n",
    "\n",
    "df_test = df_test.groupby(grouping_key).mean()\n",
    "metric = [EVALMETRIC+'_val', EVALMETRIC+'_test']\n",
    "df_test = df_test[metric].sort_values(by=EVALMETRIC+'_val', ascending=False)\n",
    "df_test = df_test.groupby(grouping_key[:-1]).head(1).reset_index().set_index(grouping_key).sort_index()\n",
    "best_params = list(df_test.index)\n",
    "print(len(best_params))\n",
    "best_params[:2]"
   ]
  },
  {
   "cell_type": "code",
   "execution_count": 6,
   "metadata": {},
   "outputs": [
    {
     "name": "stdout",
     "output_type": "stream",
     "text": [
      "(2304, 20)\n"
     ]
    },
    {
     "data": {
      "text/plain": [
       "(720, 20)"
      ]
     },
     "execution_count": 6,
     "metadata": {},
     "output_type": "execute_result"
    }
   ],
   "source": [
    "print(df.shape)\n",
    "df_best = deepcopy(df)\n",
    "df_best = df_best.set_index(grouping_key)\n",
    "df_best = df_best[\n",
    "    (~df_best.index.isin(tuned_methods, level='fs_method')) |\n",
    "    (df_best.index.isin(best_params))\n",
    "].sort_index().reset_index()\n",
    "df_best.shape"
   ]
  },
  {
   "cell_type": "code",
   "execution_count": 7,
   "metadata": {},
   "outputs": [
    {
     "data": {
      "image/png": "[encoded data removed]",
      "text/plain": [
       "<Figure size 432x288 with 1 Axes>"
      ]
     },
     "metadata": {
      "needs_background": "light"
     },
     "output_type": "display_data"
    }
   ],
   "source": [
    "DATASET = 'read_hr'\n",
    "EVALALG = 'CatBoostClassifier'\n",
    "PO_FEATURES = 0.3\n",
    "\n",
    "df_plot = df_best[df_best.dataset == DATASET]\n",
    "df_plot = df_plot[df_plot.eval_algorithm == EVALALG]\n",
    "df_plot = df_plot[df_plot.po_features == PO_FEATURES]\n",
    "\n",
    "f, ax = plt.subplots(1, 1)\n",
    "sns.boxplot(data=df_plot, x='fs_method', y=EVALMETRIC+'_test', ax=ax, color='white', width=.7, fliersize=3)\n",
    "plt.setp(ax.artists, edgecolor = 'k', facecolor='w')\n",
    "plt.setp(ax.lines, color='k')\n",
    "plt.xticks(rotation=70)\n",
    "ax.set_ylabel(EVALMETRIC, fontsize=9)\n",
    "ax.set_xlabel(None, fontsize=6, weight='bold')\n",
    "# ax.set_xticklabels(['Without\\nundersampling', 'Hypper', 'Tomek\\nLinks', 'Random', 'ENN', 'Near-Miss'])\n",
    "f.savefig(f'results_plots/fs_criteo_{EVALMETRIC}.pdf')\n",
    "plt.show()"
   ]
  },
  {
   "cell_type": "code",
   "execution_count": 8,
   "metadata": {},
   "outputs": [
    {
     "name": "stdout",
     "output_type": "stream",
     "text": [
      "FS methods: ['hypper_rw', 'hypper_weights', 'logistic_regression', 'random', 'random_forest']\n",
      "Shape: (90, 20)\n",
      "hypper_rw average rank: 4.361111111111111\n",
      "hypper_weights average rank: 2.0277777777777777\n",
      "logistic_regression average rank: 2.4444444444444446\n",
      "random average rank: 4.444444444444445\n",
      "random_forest average rank: 1.7222222222222223\n"
     ]
    },
    {
     "data": {
      "image/png": "[encoded data removed]",
      "text/plain": [
       "<Figure size 720x126 with 1 Axes>"
      ]
     },
     "metadata": {},
     "output_type": "display_data"
    }
   ],
   "source": [
    "# Friedman test - https://edisciplinas.usp.br/pluginfile.php/4129451/mod_resource/content/1/model_selection_evaluation.pdf\n",
    "df_eval_metric = df_best[(df_best.eval_algorithm == EVALALG) & (df_best.po_features == PO_FEATURES)].set_index(grouping_key).sort_index().reset_index()\n",
    "fs_methods = df_eval_metric['fs_method'].unique().tolist()\n",
    "datasets = df_eval_metric['dataset'].unique().tolist()\n",
    "kfolds = 3\n",
    "print(f\"FS methods: {fs_methods}\")\n",
    "print(f\"Shape: {df_eval_metric.shape}\")\n",
    "\n",
    "df_eval_metric['experiment_num'] = pd.Series(list(range(1,kfolds+1))*len(fs_methods)*len(datasets))\n",
    "\n",
    "# display(df_eval_metric[grouping_key+['experiment_num']+[EVALMETRIC+'_test']].head(50))\n",
    "\n",
    "performance_array = df_eval_metric.groupby(['dataset', 'experiment_num'])[EVALMETRIC+'_test'].apply(np.array)\n",
    "# performance_array\n",
    "ranks = np.array([rankdata(-p) for p in performance_array])\n",
    "# print(ranks[:5])\n",
    "average_ranks = np.mean(ranks, axis=0)\n",
    "# print(average_ranks)\n",
    "print('\\n'.join('{} average rank: {}'.format(a, r) for a, r in zip(fs_methods, average_ranks)))\n",
    "\n",
    "cd = compute_CD(average_ranks,\n",
    "                n=len(datasets)*kfolds,\n",
    "                alpha='0.1',\n",
    "                test='nemenyi')\n",
    "# This method generates the plot.\n",
    "graph_ranks(average_ranks,\n",
    "            names=fs_methods,\n",
    "            cd=cd,\n",
    "            width=10,\n",
    "            textspace=1.5,\n",
    "            reverse=True)\n",
    "plt.savefig('results_plots/fs_friedman.pdf')\n",
    "plt.show()"
   ]
  },
  {
   "cell_type": "code",
   "execution_count": null,
   "metadata": {},
   "outputs": [],
   "source": []
  }
 ],
 "metadata": {
  "interpreter": {
   "hash": "a8fb6aee9eee60f2e6276c92271702ff4816e3aa716a44f4c3f626c211add89b"
  },
  "kernelspec": {
   "display_name": "Python 3.7.13 ('venv3.7': venv)",
   "language": "python",
   "name": "python3"
  },
  "language_info": {
   "codemirror_mode": {
    "name": "ipython",
    "version": 3
   },
   "file_extension": ".py",
   "mimetype": "text/x-python",
   "name": "python",
   "nbconvert_exporter": "python",
   "pygments_lexer": "ipython3",
   "version": "3.7.13"
  },
  "orig_nbformat": 4
 },
 "nbformat": 4,
 "nbformat_minor": 2
}
